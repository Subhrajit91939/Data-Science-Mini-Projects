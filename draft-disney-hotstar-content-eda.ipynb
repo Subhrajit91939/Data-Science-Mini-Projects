{
 "cells": [
  {
   "cell_type": "markdown",
   "id": "a4c5ea0c",
   "metadata": {
    "_cell_guid": "30388255-28df-4c6e-8d3e-ac4dae346d85",
    "_kg_hide-output": true,
    "_uuid": "70150809-db46-4b6d-a820-1e88dfa31715",
    "papermill": {
     "duration": 0.007222,
     "end_time": "2022-06-28T05:43:07.411348",
     "exception": false,
     "start_time": "2022-06-28T05:43:07.404126",
     "status": "completed"
    },
    "tags": []
   },
   "source": [
    "<p align=\"center\"> \n",
    "    <span style=\"font-family: Sans-serif; font-size:24px; font-weight: Bold;\">Disney + Hotstar Content Exploratory Data Analysis.</span><br>\n",
    "    <img src=\"https://raw.githubusercontent.com/Subhrajit91939/Handwashing-Data-Analysis/master/Disney%2BHotstar.jpg\" alt=\"Disney+Hotstar Logo\">\n",
    " </p>"
   ]
  },
  {
   "cell_type": "code",
   "execution_count": 1,
   "id": "5e438b2f",
   "metadata": {
    "_kg_hide-input": true,
    "_kg_hide-output": true,
    "execution": {
     "iopub.execute_input": "2022-06-28T05:43:07.426060Z",
     "iopub.status.busy": "2022-06-28T05:43:07.425594Z",
     "iopub.status.idle": "2022-06-28T05:43:07.447196Z",
     "shell.execute_reply": "2022-06-28T05:43:07.446042Z"
    },
    "papermill": {
     "duration": 0.032194,
     "end_time": "2022-06-28T05:43:07.449905",
     "exception": false,
     "start_time": "2022-06-28T05:43:07.417711",
     "status": "completed"
    },
    "tags": []
   },
   "outputs": [
    {
     "name": "stdout",
     "output_type": "stream",
     "text": [
      "/kaggle/input/disney-hotstar-dataset/disney_plus_shows.csv\n"
     ]
    }
   ],
   "source": [
    "import os\n",
    "for dirname, _, filenames in os.walk('/kaggle/input'):\n",
    "    for filename in filenames:\n",
    "        print(os.path.join(dirname, filename))"
   ]
  },
  {
   "cell_type": "markdown",
   "id": "04fd6525",
   "metadata": {
    "papermill": {
     "duration": 0.006181,
     "end_time": "2022-06-28T05:43:07.462531",
     "exception": false,
     "start_time": "2022-06-28T05:43:07.456350",
     "status": "completed"
    },
    "tags": []
   },
   "source": [
    "<span style=\"font-family: Sans-serif; font-size:20px; font-weight: Bold;\">1. Importing all the necessary Libraries.</span> <br>"
   ]
  },
  {
   "cell_type": "code",
   "execution_count": 2,
   "id": "12ff9528",
   "metadata": {
    "execution": {
     "iopub.execute_input": "2022-06-28T05:43:07.477342Z",
     "iopub.status.busy": "2022-06-28T05:43:07.476630Z",
     "iopub.status.idle": "2022-06-28T05:43:08.620837Z",
     "shell.execute_reply": "2022-06-28T05:43:08.619840Z"
    },
    "papermill": {
     "duration": 1.154715,
     "end_time": "2022-06-28T05:43:08.623547",
     "exception": false,
     "start_time": "2022-06-28T05:43:07.468832",
     "status": "completed"
    },
    "tags": []
   },
   "outputs": [],
   "source": [
    "# Data analysis and wrangling.\n",
    "import pandas as pd\n",
    "import numpy as np\n",
    "\n",
    "# Data Visualization:\n",
    "import matplotlib as mpl\n",
    "import matplotlib.pyplot as plt\n",
    "import matplotlib.patches as patches\n",
    "import seaborn as sns\n",
    "\n",
    "## Default fonts\n",
    "mpl.rcParams['font.family'] = 'Sans-serif'\n",
    "\n",
    "# Suppress all the warnings\n",
    "import warnings\n",
    "warnings.filterwarnings(\"ignore\")"
   ]
  },
  {
   "cell_type": "code",
   "execution_count": 3,
   "id": "720722c4",
   "metadata": {
    "execution": {
     "iopub.execute_input": "2022-06-28T05:43:08.637548Z",
     "iopub.status.busy": "2022-06-28T05:43:08.637175Z",
     "iopub.status.idle": "2022-06-28T05:43:08.675160Z",
     "shell.execute_reply": "2022-06-28T05:43:08.673946Z"
    },
    "papermill": {
     "duration": 0.047916,
     "end_time": "2022-06-28T05:43:08.677632",
     "exception": false,
     "start_time": "2022-06-28T05:43:08.629716",
     "status": "completed"
    },
    "tags": []
   },
   "outputs": [
    {
     "data": {
      "text/plain": [
       "(992, 19)"
      ]
     },
     "execution_count": 3,
     "metadata": {},
     "output_type": "execute_result"
    }
   ],
   "source": [
    "disney = pd.read_csv('../input/disney-hotstar-dataset/disney_plus_shows.csv')\n",
    "disney.shape"
   ]
  },
  {
   "cell_type": "code",
   "execution_count": 4,
   "id": "2fe5725c",
   "metadata": {
    "execution": {
     "iopub.execute_input": "2022-06-28T05:43:08.692463Z",
     "iopub.status.busy": "2022-06-28T05:43:08.692086Z",
     "iopub.status.idle": "2022-06-28T05:43:08.722883Z",
     "shell.execute_reply": "2022-06-28T05:43:08.721500Z"
    },
    "papermill": {
     "duration": 0.041163,
     "end_time": "2022-06-28T05:43:08.725321",
     "exception": false,
     "start_time": "2022-06-28T05:43:08.684158",
     "status": "completed"
    },
    "tags": []
   },
   "outputs": [
    {
     "name": "stdout",
     "output_type": "stream",
     "text": [
      "<class 'pandas.core.frame.DataFrame'>\n",
      "RangeIndex: 992 entries, 0 to 991\n",
      "Data columns (total 19 columns):\n",
      " #   Column       Non-Null Count  Dtype  \n",
      "---  ------       --------------  -----  \n",
      " 0   imdb_id      894 non-null    object \n",
      " 1   title        894 non-null    object \n",
      " 2   plot         866 non-null    object \n",
      " 3   type         894 non-null    object \n",
      " 4   rated        742 non-null    object \n",
      " 5   year         894 non-null    object \n",
      " 6   released_at  874 non-null    object \n",
      " 7   added_at     992 non-null    object \n",
      " 8   runtime      838 non-null    object \n",
      " 9   genre        885 non-null    object \n",
      " 10  director     689 non-null    object \n",
      " 11  writer       743 non-null    object \n",
      " 12  actors       870 non-null    object \n",
      " 13  language     865 non-null    object \n",
      " 14  country      869 non-null    object \n",
      " 15  awards       556 non-null    object \n",
      " 16  metascore    292 non-null    float64\n",
      " 17  imdb_rating  879 non-null    float64\n",
      " 18  imdb_votes   879 non-null    object \n",
      "dtypes: float64(2), object(17)\n",
      "memory usage: 147.4+ KB\n"
     ]
    }
   ],
   "source": [
    "disney.info()"
   ]
  },
  {
   "cell_type": "code",
   "execution_count": 5,
   "id": "2879f37e",
   "metadata": {
    "execution": {
     "iopub.execute_input": "2022-06-28T05:43:08.740293Z",
     "iopub.status.busy": "2022-06-28T05:43:08.739624Z",
     "iopub.status.idle": "2022-06-28T05:43:08.768650Z",
     "shell.execute_reply": "2022-06-28T05:43:08.767509Z"
    },
    "papermill": {
     "duration": 0.039448,
     "end_time": "2022-06-28T05:43:08.771170",
     "exception": false,
     "start_time": "2022-06-28T05:43:08.731722",
     "status": "completed"
    },
    "tags": []
   },
   "outputs": [
    {
     "data": {
      "text/html": [
       "<div>\n",
       "<style scoped>\n",
       "    .dataframe tbody tr th:only-of-type {\n",
       "        vertical-align: middle;\n",
       "    }\n",
       "\n",
       "    .dataframe tbody tr th {\n",
       "        vertical-align: top;\n",
       "    }\n",
       "\n",
       "    .dataframe thead th {\n",
       "        text-align: right;\n",
       "    }\n",
       "</style>\n",
       "<table border=\"1\" class=\"dataframe\">\n",
       "  <thead>\n",
       "    <tr style=\"text-align: right;\">\n",
       "      <th></th>\n",
       "      <th>imdb_id</th>\n",
       "      <th>title</th>\n",
       "      <th>plot</th>\n",
       "      <th>type</th>\n",
       "      <th>rated</th>\n",
       "      <th>year</th>\n",
       "      <th>released_at</th>\n",
       "      <th>added_at</th>\n",
       "      <th>runtime</th>\n",
       "      <th>genre</th>\n",
       "      <th>director</th>\n",
       "      <th>writer</th>\n",
       "      <th>actors</th>\n",
       "      <th>language</th>\n",
       "      <th>country</th>\n",
       "      <th>awards</th>\n",
       "      <th>metascore</th>\n",
       "      <th>imdb_rating</th>\n",
       "      <th>imdb_votes</th>\n",
       "    </tr>\n",
       "  </thead>\n",
       "  <tbody>\n",
       "    <tr>\n",
       "      <th>105</th>\n",
       "      <td>NaN</td>\n",
       "      <td>NaN</td>\n",
       "      <td>NaN</td>\n",
       "      <td>NaN</td>\n",
       "      <td>NaN</td>\n",
       "      <td>NaN</td>\n",
       "      <td>NaN</td>\n",
       "      <td>November 12, 2019</td>\n",
       "      <td>NaN</td>\n",
       "      <td>NaN</td>\n",
       "      <td>NaN</td>\n",
       "      <td>NaN</td>\n",
       "      <td>NaN</td>\n",
       "      <td>NaN</td>\n",
       "      <td>NaN</td>\n",
       "      <td>NaN</td>\n",
       "      <td>NaN</td>\n",
       "      <td>NaN</td>\n",
       "      <td>NaN</td>\n",
       "    </tr>\n",
       "    <tr>\n",
       "      <th>289</th>\n",
       "      <td>NaN</td>\n",
       "      <td>NaN</td>\n",
       "      <td>NaN</td>\n",
       "      <td>NaN</td>\n",
       "      <td>NaN</td>\n",
       "      <td>NaN</td>\n",
       "      <td>NaN</td>\n",
       "      <td>December 6, 2019</td>\n",
       "      <td>NaN</td>\n",
       "      <td>NaN</td>\n",
       "      <td>NaN</td>\n",
       "      <td>NaN</td>\n",
       "      <td>NaN</td>\n",
       "      <td>NaN</td>\n",
       "      <td>NaN</td>\n",
       "      <td>NaN</td>\n",
       "      <td>NaN</td>\n",
       "      <td>NaN</td>\n",
       "      <td>NaN</td>\n",
       "    </tr>\n",
       "    <tr>\n",
       "      <th>900</th>\n",
       "      <td>tt10196390</td>\n",
       "      <td>The World According to Jeff Goldblum</td>\n",
       "      <td>Documentary series in which Goldblum pulls bac...</td>\n",
       "      <td>series</td>\n",
       "      <td>TV-PG</td>\n",
       "      <td>2019–</td>\n",
       "      <td>12 Nov 2019</td>\n",
       "      <td>November 12, 2019</td>\n",
       "      <td>NaN</td>\n",
       "      <td>Documentary, Comedy</td>\n",
       "      <td>NaN</td>\n",
       "      <td>NaN</td>\n",
       "      <td>Jeff Goldblum</td>\n",
       "      <td>NaN</td>\n",
       "      <td>NaN</td>\n",
       "      <td>NaN</td>\n",
       "      <td>NaN</td>\n",
       "      <td>7.9</td>\n",
       "      <td>1,121</td>\n",
       "    </tr>\n",
       "    <tr>\n",
       "      <th>758</th>\n",
       "      <td>tt0072653</td>\n",
       "      <td>The Apple Dumpling Gang</td>\n",
       "      <td>Three orphan children strike gold in 1878 Cali...</td>\n",
       "      <td>movie</td>\n",
       "      <td>G</td>\n",
       "      <td>1975</td>\n",
       "      <td>01 Jul 1975</td>\n",
       "      <td>November 12, 2019</td>\n",
       "      <td>100 min</td>\n",
       "      <td>Comedy, Family, Western</td>\n",
       "      <td>Norman Tokar</td>\n",
       "      <td>Don Tait (screenplay), Jack M. Bickham (book)</td>\n",
       "      <td>Bill Bixby, Susan Clark, Don Knotts, Tim Conway</td>\n",
       "      <td>English</td>\n",
       "      <td>USA</td>\n",
       "      <td>NaN</td>\n",
       "      <td>59.0</td>\n",
       "      <td>6.5</td>\n",
       "      <td>4,710</td>\n",
       "    </tr>\n",
       "    <tr>\n",
       "      <th>688</th>\n",
       "      <td>tt0105417</td>\n",
       "      <td>Sister Act</td>\n",
       "      <td>When a worldly singer witnesses a mob crime, t...</td>\n",
       "      <td>movie</td>\n",
       "      <td>PG</td>\n",
       "      <td>1992</td>\n",
       "      <td>29 May 1992</td>\n",
       "      <td>November 12, 2019</td>\n",
       "      <td>100 min</td>\n",
       "      <td>Comedy, Crime, Family, Music</td>\n",
       "      <td>Emile Ardolino</td>\n",
       "      <td>Paul Rudnick</td>\n",
       "      <td>Whoopi Goldberg, Maggie Smith, Kathy Najimy, W...</td>\n",
       "      <td>English</td>\n",
       "      <td>USA</td>\n",
       "      <td>Nominated for 2 Golden Globes. Another 9 wins ...</td>\n",
       "      <td>51.0</td>\n",
       "      <td>6.4</td>\n",
       "      <td>83,764</td>\n",
       "    </tr>\n",
       "  </tbody>\n",
       "</table>\n",
       "</div>"
      ],
      "text/plain": [
       "        imdb_id                                 title  \\\n",
       "105         NaN                                   NaN   \n",
       "289         NaN                                   NaN   \n",
       "900  tt10196390  The World According to Jeff Goldblum   \n",
       "758   tt0072653               The Apple Dumpling Gang   \n",
       "688   tt0105417                            Sister Act   \n",
       "\n",
       "                                                  plot    type  rated   year  \\\n",
       "105                                                NaN     NaN    NaN    NaN   \n",
       "289                                                NaN     NaN    NaN    NaN   \n",
       "900  Documentary series in which Goldblum pulls bac...  series  TV-PG  2019–   \n",
       "758  Three orphan children strike gold in 1878 Cali...   movie      G   1975   \n",
       "688  When a worldly singer witnesses a mob crime, t...   movie     PG   1992   \n",
       "\n",
       "     released_at           added_at  runtime                         genre  \\\n",
       "105          NaN  November 12, 2019      NaN                           NaN   \n",
       "289          NaN   December 6, 2019      NaN                           NaN   \n",
       "900  12 Nov 2019  November 12, 2019      NaN           Documentary, Comedy   \n",
       "758  01 Jul 1975  November 12, 2019  100 min       Comedy, Family, Western   \n",
       "688  29 May 1992  November 12, 2019  100 min  Comedy, Crime, Family, Music   \n",
       "\n",
       "           director                                         writer  \\\n",
       "105             NaN                                            NaN   \n",
       "289             NaN                                            NaN   \n",
       "900             NaN                                            NaN   \n",
       "758    Norman Tokar  Don Tait (screenplay), Jack M. Bickham (book)   \n",
       "688  Emile Ardolino                                   Paul Rudnick   \n",
       "\n",
       "                                                actors language country  \\\n",
       "105                                                NaN      NaN     NaN   \n",
       "289                                                NaN      NaN     NaN   \n",
       "900                                      Jeff Goldblum      NaN     NaN   \n",
       "758    Bill Bixby, Susan Clark, Don Knotts, Tim Conway  English     USA   \n",
       "688  Whoopi Goldberg, Maggie Smith, Kathy Najimy, W...  English     USA   \n",
       "\n",
       "                                                awards  metascore  \\\n",
       "105                                                NaN        NaN   \n",
       "289                                                NaN        NaN   \n",
       "900                                                NaN        NaN   \n",
       "758                                                NaN       59.0   \n",
       "688  Nominated for 2 Golden Globes. Another 9 wins ...       51.0   \n",
       "\n",
       "     imdb_rating imdb_votes  \n",
       "105          NaN        NaN  \n",
       "289          NaN        NaN  \n",
       "900          7.9      1,121  \n",
       "758          6.5      4,710  \n",
       "688          6.4     83,764  "
      ]
     },
     "execution_count": 5,
     "metadata": {},
     "output_type": "execute_result"
    }
   ],
   "source": [
    "disney.sample(5)"
   ]
  },
  {
   "cell_type": "code",
   "execution_count": 6,
   "id": "0d28f55d",
   "metadata": {
    "execution": {
     "iopub.execute_input": "2022-06-28T05:43:08.786306Z",
     "iopub.status.busy": "2022-06-28T05:43:08.785938Z",
     "iopub.status.idle": "2022-06-28T05:43:08.799658Z",
     "shell.execute_reply": "2022-06-28T05:43:08.798196Z"
    },
    "papermill": {
     "duration": 0.023994,
     "end_time": "2022-06-28T05:43:08.801897",
     "exception": false,
     "start_time": "2022-06-28T05:43:08.777903",
     "status": "completed"
    },
    "tags": []
   },
   "outputs": [
    {
     "name": "stdout",
     "output_type": "stream",
     "text": [
      "\n",
      "Disney+Hotstar dataset has: 74 Duplicate values\n"
     ]
    }
   ],
   "source": [
    "# Checking all the columns for any duplicates:\n",
    "\n",
    "print(f\"\\nDisney+Hotstar dataset has: {disney.duplicated().sum()} Duplicate values\")"
   ]
  },
  {
   "cell_type": "markdown",
   "id": "c4a1d9c6",
   "metadata": {
    "papermill": {
     "duration": 0.006453,
     "end_time": "2022-06-28T05:43:08.815219",
     "exception": false,
     "start_time": "2022-06-28T05:43:08.808766",
     "status": "completed"
    },
    "tags": []
   },
   "source": [
    "<span style=\"font-family: Sans-serif; font-size:18px; font-weight: Regular;\">we have a total of <strong>74 duplicates</strong> in the disney dataset.</span>"
   ]
  },
  {
   "cell_type": "code",
   "execution_count": 7,
   "id": "13700fe8",
   "metadata": {
    "execution": {
     "iopub.execute_input": "2022-06-28T05:43:08.830717Z",
     "iopub.status.busy": "2022-06-28T05:43:08.830130Z",
     "iopub.status.idle": "2022-06-28T05:43:08.842825Z",
     "shell.execute_reply": "2022-06-28T05:43:08.841406Z"
    },
    "papermill": {
     "duration": 0.023396,
     "end_time": "2022-06-28T05:43:08.845215",
     "exception": false,
     "start_time": "2022-06-28T05:43:08.821819",
     "status": "completed"
    },
    "tags": []
   },
   "outputs": [
    {
     "name": "stdout",
     "output_type": "stream",
     "text": [
      "imdb_id's NaN value = 9.88%\n",
      "title's NaN value = 9.88%\n",
      "plot's NaN value = 12.70%\n",
      "type's NaN value = 9.88%\n",
      "rated's NaN value = 25.20%\n",
      "year's NaN value = 9.88%\n",
      "released_at's NaN value = 11.90%\n",
      "runtime's NaN value = 15.52%\n",
      "genre's NaN value = 10.79%\n",
      "director's NaN value = 30.54%\n",
      "writer's NaN value = 25.10%\n",
      "actors's NaN value = 12.30%\n",
      "language's NaN value = 12.80%\n",
      "country's NaN value = 12.40%\n",
      "awards's NaN value = 43.95%\n",
      "metascore's NaN value = 70.56%\n",
      "imdb_rating's NaN value = 11.39%\n",
      "imdb_votes's NaN value = 11.39%\n",
      "\n",
      "Total columns with NaN/NULL values: 18 columns\n"
     ]
    }
   ],
   "source": [
    "# Displaying all the columns with NaN values and the Percentage of NaN/NULL values:\n",
    "nan_count = 0\n",
    "for i in disney.columns:\n",
    "    nan_perc = disney[i].isna().sum() / len(disney) * 100 \n",
    "    if nan_perc > 0 :\n",
    "        print(f\"{i}'s NaN value = {nan_perc:.2f}%\")\n",
    "        nan_count += 1\n",
    "\n",
    "print(f\"\\nTotal columns with NaN/NULL values: {nan_count} columns\")"
   ]
  },
  {
   "cell_type": "markdown",
   "id": "da7d55ef",
   "metadata": {
    "papermill": {
     "duration": 0.006709,
     "end_time": "2022-06-28T05:43:08.858906",
     "exception": false,
     "start_time": "2022-06-28T05:43:08.852197",
     "status": "completed"
    },
    "tags": []
   },
   "source": [
    "<span style=\"font-family: Sans-serif; font-size:18px; font-weight: Regular;\"> Dataset contains a total of <strong>19 columns</strong>, out of which <strong>18 columns</strong> contain <strong>missing/NaN values</strong> and need cleaning.</span>\n",
    "* <span style=\"font-family: Sans-serif; font-size:15px; font-weight: Regular;\"> <strong>~9.88%</strong> of the rows in all the columns (Except <code>added_at</code> column) has <strong>NaN/NULL values</strong>, so we can saely drop that part from our dataframe.</span>\n",
    "* <span style=\"font-family: Sans-serif; font-size:15px; font-weight: Regular;\"><code>metascore</code> column has the most number of missing values <strong>~70.56%</strong>. It would be safe to drop the <code>metascore</code> column from the dataframe. As we already have 2 features when it comes to ratings for all the content available on the platform.</span>\n",
    "\n",
    "<span style=\"font-family: Sans-serif; font-size:18px; font-weight: Regular;\">Now, let us have a look at the <strong>Disney+</strong> data.</span>"
   ]
  },
  {
   "cell_type": "code",
   "execution_count": 8,
   "id": "a779ab6e",
   "metadata": {
    "execution": {
     "iopub.execute_input": "2022-06-28T05:43:08.874959Z",
     "iopub.status.busy": "2022-06-28T05:43:08.874229Z",
     "iopub.status.idle": "2022-06-28T05:43:08.930761Z",
     "shell.execute_reply": "2022-06-28T05:43:08.929570Z"
    },
    "papermill": {
     "duration": 0.067221,
     "end_time": "2022-06-28T05:43:08.933107",
     "exception": false,
     "start_time": "2022-06-28T05:43:08.865886",
     "status": "completed"
    },
    "tags": []
   },
   "outputs": [
    {
     "data": {
      "text/html": [
       "<div>\n",
       "<style scoped>\n",
       "    .dataframe tbody tr th:only-of-type {\n",
       "        vertical-align: middle;\n",
       "    }\n",
       "\n",
       "    .dataframe tbody tr th {\n",
       "        vertical-align: top;\n",
       "    }\n",
       "\n",
       "    .dataframe thead th {\n",
       "        text-align: right;\n",
       "    }\n",
       "</style>\n",
       "<table border=\"1\" class=\"dataframe\">\n",
       "  <thead>\n",
       "    <tr style=\"text-align: right;\">\n",
       "      <th></th>\n",
       "      <th>imdb_id</th>\n",
       "      <th>title</th>\n",
       "      <th>plot</th>\n",
       "      <th>type</th>\n",
       "      <th>rated</th>\n",
       "      <th>year</th>\n",
       "      <th>released_at</th>\n",
       "      <th>added_at</th>\n",
       "      <th>runtime</th>\n",
       "      <th>genre</th>\n",
       "      <th>director</th>\n",
       "      <th>writer</th>\n",
       "      <th>actors</th>\n",
       "      <th>language</th>\n",
       "      <th>country</th>\n",
       "      <th>awards</th>\n",
       "      <th>metascore</th>\n",
       "      <th>imdb_rating</th>\n",
       "      <th>imdb_votes</th>\n",
       "    </tr>\n",
       "  </thead>\n",
       "  <tbody>\n",
       "    <tr>\n",
       "      <th>count</th>\n",
       "      <td>894</td>\n",
       "      <td>894</td>\n",
       "      <td>866</td>\n",
       "      <td>894</td>\n",
       "      <td>742</td>\n",
       "      <td>894</td>\n",
       "      <td>874</td>\n",
       "      <td>992</td>\n",
       "      <td>838</td>\n",
       "      <td>885</td>\n",
       "      <td>689</td>\n",
       "      <td>743</td>\n",
       "      <td>870</td>\n",
       "      <td>865</td>\n",
       "      <td>869</td>\n",
       "      <td>556</td>\n",
       "      <td>292.0</td>\n",
       "      <td>879.0</td>\n",
       "      <td>879</td>\n",
       "    </tr>\n",
       "    <tr>\n",
       "      <th>unique</th>\n",
       "      <td>894</td>\n",
       "      <td>872</td>\n",
       "      <td>865</td>\n",
       "      <td>3</td>\n",
       "      <td>17</td>\n",
       "      <td>178</td>\n",
       "      <td>800</td>\n",
       "      <td>58</td>\n",
       "      <td>128</td>\n",
       "      <td>366</td>\n",
       "      <td>465</td>\n",
       "      <td>710</td>\n",
       "      <td>817</td>\n",
       "      <td>72</td>\n",
       "      <td>59</td>\n",
       "      <td>258</td>\n",
       "      <td>NaN</td>\n",
       "      <td>NaN</td>\n",
       "      <td>818</td>\n",
       "    </tr>\n",
       "    <tr>\n",
       "      <th>top</th>\n",
       "      <td>tt0147800</td>\n",
       "      <td>Freaky Friday</td>\n",
       "      <td>The romantic tale of a sheltered uptown Cocker...</td>\n",
       "      <td>movie</td>\n",
       "      <td>G</td>\n",
       "      <td>2019</td>\n",
       "      <td>12 Nov 2019</td>\n",
       "      <td>November 12, 2019</td>\n",
       "      <td>30 min</td>\n",
       "      <td>Documentary</td>\n",
       "      <td>Jack Hannah</td>\n",
       "      <td>Bill Berg (story), Nick George (story)</td>\n",
       "      <td>Winston Hibler</td>\n",
       "      <td>English</td>\n",
       "      <td>USA</td>\n",
       "      <td>1 nomination.</td>\n",
       "      <td>NaN</td>\n",
       "      <td>NaN</td>\n",
       "      <td>47</td>\n",
       "    </tr>\n",
       "    <tr>\n",
       "      <th>freq</th>\n",
       "      <td>1</td>\n",
       "      <td>3</td>\n",
       "      <td>2</td>\n",
       "      <td>680</td>\n",
       "      <td>207</td>\n",
       "      <td>31</td>\n",
       "      <td>12</td>\n",
       "      <td>786</td>\n",
       "      <td>52</td>\n",
       "      <td>53</td>\n",
       "      <td>16</td>\n",
       "      <td>4</td>\n",
       "      <td>10</td>\n",
       "      <td>737</td>\n",
       "      <td>735</td>\n",
       "      <td>56</td>\n",
       "      <td>NaN</td>\n",
       "      <td>NaN</td>\n",
       "      <td>3</td>\n",
       "    </tr>\n",
       "  </tbody>\n",
       "</table>\n",
       "</div>"
      ],
      "text/plain": [
       "          imdb_id          title  \\\n",
       "count         894            894   \n",
       "unique        894            872   \n",
       "top     tt0147800  Freaky Friday   \n",
       "freq            1              3   \n",
       "\n",
       "                                                     plot   type rated  year  \\\n",
       "count                                                 866    894   742   894   \n",
       "unique                                                865      3    17   178   \n",
       "top     The romantic tale of a sheltered uptown Cocker...  movie     G  2019   \n",
       "freq                                                    2    680   207    31   \n",
       "\n",
       "        released_at           added_at runtime        genre     director  \\\n",
       "count           874                992     838          885          689   \n",
       "unique          800                 58     128          366          465   \n",
       "top     12 Nov 2019  November 12, 2019  30 min  Documentary  Jack Hannah   \n",
       "freq             12                786      52           53           16   \n",
       "\n",
       "                                        writer          actors language  \\\n",
       "count                                      743             870      865   \n",
       "unique                                     710             817       72   \n",
       "top     Bill Berg (story), Nick George (story)  Winston Hibler  English   \n",
       "freq                                         4              10      737   \n",
       "\n",
       "       country         awards  metascore  imdb_rating imdb_votes  \n",
       "count      869            556      292.0        879.0        879  \n",
       "unique      59            258        NaN          NaN        818  \n",
       "top        USA  1 nomination.        NaN          NaN         47  \n",
       "freq       735             56        NaN          NaN          3  "
      ]
     },
     "execution_count": 8,
     "metadata": {},
     "output_type": "execute_result"
    }
   ],
   "source": [
    "disney.describe(include='all').head(4)"
   ]
  },
  {
   "cell_type": "markdown",
   "id": "0885afc6",
   "metadata": {
    "papermill": {
     "duration": 0.007248,
     "end_time": "2022-06-28T05:43:08.947815",
     "exception": false,
     "start_time": "2022-06-28T05:43:08.940567",
     "status": "completed"
    },
    "tags": []
   },
   "source": [
    "<span style=\"font-family: Sans-serif; font-size:18px; font-weight: Regular;\">Cleaning the <strong>missing/NaN</strong> data.</span>\n",
    "<br>\n",
    "<span style=\"font-family: Sans-serif; font-size:16px; font-weight: Regular;\">1. Dropping the <code>metascore</code> feature from the dataset.</span><br>\n",
    "<span style=\"font-family: Sans-serif; font-size:16px; font-weight: Regular;\">2. Dropping the <strong>~9.88%</strong> missing data from the dataset.</span>"
   ]
  },
  {
   "cell_type": "code",
   "execution_count": 9,
   "id": "8bc0e7be",
   "metadata": {
    "execution": {
     "iopub.execute_input": "2022-06-28T05:43:08.964462Z",
     "iopub.status.busy": "2022-06-28T05:43:08.964099Z",
     "iopub.status.idle": "2022-06-28T05:43:08.970371Z",
     "shell.execute_reply": "2022-06-28T05:43:08.969352Z"
    },
    "papermill": {
     "duration": 0.01729,
     "end_time": "2022-06-28T05:43:08.972581",
     "exception": false,
     "start_time": "2022-06-28T05:43:08.955291",
     "status": "completed"
    },
    "tags": []
   },
   "outputs": [],
   "source": [
    "disney = disney.drop(columns='metascore')"
   ]
  },
  {
   "cell_type": "code",
   "execution_count": 10,
   "id": "1e7450ec",
   "metadata": {
    "execution": {
     "iopub.execute_input": "2022-06-28T05:43:08.989788Z",
     "iopub.status.busy": "2022-06-28T05:43:08.988609Z",
     "iopub.status.idle": "2022-06-28T05:43:09.005289Z",
     "shell.execute_reply": "2022-06-28T05:43:09.004506Z"
    },
    "papermill": {
     "duration": 0.027922,
     "end_time": "2022-06-28T05:43:09.007871",
     "exception": false,
     "start_time": "2022-06-28T05:43:08.979949",
     "status": "completed"
    },
    "tags": []
   },
   "outputs": [
    {
     "name": "stdout",
     "output_type": "stream",
     "text": [
      "<class 'pandas.core.frame.DataFrame'>\n",
      "Int64Index: 894 entries, 0 to 991\n",
      "Data columns (total 18 columns):\n",
      " #   Column       Non-Null Count  Dtype  \n",
      "---  ------       --------------  -----  \n",
      " 0   imdb_id      894 non-null    object \n",
      " 1   title        894 non-null    object \n",
      " 2   plot         866 non-null    object \n",
      " 3   type         894 non-null    object \n",
      " 4   rated        742 non-null    object \n",
      " 5   year         894 non-null    object \n",
      " 6   released_at  874 non-null    object \n",
      " 7   added_at     894 non-null    object \n",
      " 8   runtime      838 non-null    object \n",
      " 9   genre        885 non-null    object \n",
      " 10  director     689 non-null    object \n",
      " 11  writer       743 non-null    object \n",
      " 12  actors       870 non-null    object \n",
      " 13  language     865 non-null    object \n",
      " 14  country      869 non-null    object \n",
      " 15  awards       556 non-null    object \n",
      " 16  imdb_rating  879 non-null    float64\n",
      " 17  imdb_votes   879 non-null    object \n",
      "dtypes: float64(1), object(17)\n",
      "memory usage: 132.7+ KB\n"
     ]
    }
   ],
   "source": [
    "# dropping the 9.88% Missing data in the major columns.\n",
    "disney = disney.dropna(subset=['imdb_id', 'title', 'type', 'year'])\n",
    "disney.info()"
   ]
  },
  {
   "cell_type": "code",
   "execution_count": 11,
   "id": "c709b2c7",
   "metadata": {
    "execution": {
     "iopub.execute_input": "2022-06-28T05:43:09.024691Z",
     "iopub.status.busy": "2022-06-28T05:43:09.024135Z",
     "iopub.status.idle": "2022-06-28T05:43:09.143895Z",
     "shell.execute_reply": "2022-06-28T05:43:09.142589Z"
    },
    "papermill": {
     "duration": 0.132063,
     "end_time": "2022-06-28T05:43:09.147350",
     "exception": false,
     "start_time": "2022-06-28T05:43:09.015287",
     "status": "completed"
    },
    "tags": []
   },
   "outputs": [
    {
     "data": {
      "image/png": "[encoded data removed]",
      "text/plain": [
       "<Figure size 720x144 with 1 Axes>"
      ]
     },
     "metadata": {
      "needs_background": "light"
     },
     "output_type": "display_data"
    }
   ],
   "source": [
    "sns.palplot(['#070C26', '#0D1440', '#1F438C', '#193773', '#F2F2F2'], size=2)"
   ]
  },
  {
   "cell_type": "markdown",
   "id": "de8976ec",
   "metadata": {
    "papermill": {
     "duration": 0.013241,
     "end_time": "2022-06-28T05:43:09.175491",
     "exception": false,
     "start_time": "2022-06-28T05:43:09.162250",
     "status": "completed"
    },
    "tags": []
   },
   "source": [
    "<span style=\"font-family: Sans-serif; font-size:18px; font-weight: Regular;\">Cleaning the columns and reassigning <strong>datatypes</strong>.</span>\n",
    "<br>\n",
    "<span style=\"font-family: Sans-serif; font-size:16px; font-weight: Regular;\">1. The <code>year</code>, <code>released_at</code> and <code>added_at</code> columns should have <code>datetime</code> datatype.</span><br>\n",
    "<span style=\"font-family: Sans-serif; font-size:16px; font-weight: Regular;\">2. The <code>imdb_votes</code> column needs cleaning and converting the datatype to  <strong>int64</strong></span><br>\n",
    "<span style=\"font-family: Sans-serif; font-size:16px; font-weight: Regular;\">3. Convert the <code>type</code> and <code>rated</code> columns to <code>categorical</code> datatype.</span><br>"
   ]
  },
  {
   "cell_type": "code",
   "execution_count": 12,
   "id": "437696fb",
   "metadata": {
    "execution": {
     "iopub.execute_input": "2022-06-28T05:43:09.205029Z",
     "iopub.status.busy": "2022-06-28T05:43:09.204435Z",
     "iopub.status.idle": "2022-06-28T05:43:09.219030Z",
     "shell.execute_reply": "2022-06-28T05:43:09.217757Z"
    },
    "papermill": {
     "duration": 0.033545,
     "end_time": "2022-06-28T05:43:09.222623",
     "exception": false,
     "start_time": "2022-06-28T05:43:09.189078",
     "status": "completed"
    },
    "tags": []
   },
   "outputs": [],
   "source": [
    "# Dealing with datatype for the imdb_votes column.\n",
    "disney['imdb_votes'] = disney['imdb_votes'].apply(lambda x: \"\".join(str(x).split(',')))\n",
    "disney['imdb_votes'] = disney['imdb_votes'].str.strip().astype('float').astype('Int64')"
   ]
  },
  {
   "cell_type": "code",
   "execution_count": 13,
   "id": "3a2ee514",
   "metadata": {
    "execution": {
     "iopub.execute_input": "2022-06-28T05:43:09.239592Z",
     "iopub.status.busy": "2022-06-28T05:43:09.239216Z",
     "iopub.status.idle": "2022-06-28T05:43:09.263308Z",
     "shell.execute_reply": "2022-06-28T05:43:09.262168Z"
    },
    "papermill": {
     "duration": 0.035265,
     "end_time": "2022-06-28T05:43:09.265654",
     "exception": false,
     "start_time": "2022-06-28T05:43:09.230389",
     "status": "completed"
    },
    "tags": []
   },
   "outputs": [
    {
     "data": {
      "text/html": [
       "<div>\n",
       "<style scoped>\n",
       "    .dataframe tbody tr th:only-of-type {\n",
       "        vertical-align: middle;\n",
       "    }\n",
       "\n",
       "    .dataframe tbody tr th {\n",
       "        vertical-align: top;\n",
       "    }\n",
       "\n",
       "    .dataframe thead th {\n",
       "        text-align: right;\n",
       "    }\n",
       "</style>\n",
       "<table border=\"1\" class=\"dataframe\">\n",
       "  <thead>\n",
       "    <tr style=\"text-align: right;\">\n",
       "      <th></th>\n",
       "      <th>title</th>\n",
       "      <th>type</th>\n",
       "      <th>rated</th>\n",
       "      <th>genre</th>\n",
       "      <th>language</th>\n",
       "      <th>imdb_rating</th>\n",
       "      <th>imdb_votes</th>\n",
       "    </tr>\n",
       "  </thead>\n",
       "  <tbody>\n",
       "    <tr>\n",
       "      <th>807</th>\n",
       "      <td>The Imagineering Story</td>\n",
       "      <td>series</td>\n",
       "      <td>NaN</td>\n",
       "      <td>Documentary</td>\n",
       "      <td>NaN</td>\n",
       "      <td>9.1</td>\n",
       "      <td>1194</td>\n",
       "    </tr>\n",
       "    <tr>\n",
       "      <th>170</th>\n",
       "      <td>Gravity Falls</td>\n",
       "      <td>series</td>\n",
       "      <td>TV-Y7</td>\n",
       "      <td>Animation, Action, Adventure, Comedy, Family, ...</td>\n",
       "      <td>English</td>\n",
       "      <td>8.9</td>\n",
       "      <td>63771</td>\n",
       "    </tr>\n",
       "    <tr>\n",
       "      <th>583</th>\n",
       "      <td>One Strange Rock</td>\n",
       "      <td>series</td>\n",
       "      <td>TV-PG</td>\n",
       "      <td>Documentary</td>\n",
       "      <td>English, Spanish, Indonesian, Chinese, Arabic,...</td>\n",
       "      <td>8.8</td>\n",
       "      <td>5420</td>\n",
       "    </tr>\n",
       "    <tr>\n",
       "      <th>875</th>\n",
       "      <td>The Simpsons</td>\n",
       "      <td>series</td>\n",
       "      <td>TV-PG</td>\n",
       "      <td>Animation, Comedy</td>\n",
       "      <td>English, Spanish, Albanian, French, Japanese, ...</td>\n",
       "      <td>8.7</td>\n",
       "      <td>328282</td>\n",
       "    </tr>\n",
       "    <tr>\n",
       "      <th>831</th>\n",
       "      <td>The Mandalorian</td>\n",
       "      <td>series</td>\n",
       "      <td>TV-PG</td>\n",
       "      <td>Action, Adventure, Sci-Fi</td>\n",
       "      <td>English</td>\n",
       "      <td>8.7</td>\n",
       "      <td>157153</td>\n",
       "    </tr>\n",
       "    <tr>\n",
       "      <th>719</th>\n",
       "      <td>Star Wars: Episode V - The Empire Strikes Back</td>\n",
       "      <td>movie</td>\n",
       "      <td>PG</td>\n",
       "      <td>Action, Adventure, Fantasy, Sci-Fi</td>\n",
       "      <td>English</td>\n",
       "      <td>8.7</td>\n",
       "      <td>1109656</td>\n",
       "    </tr>\n",
       "    <tr>\n",
       "      <th>712</th>\n",
       "      <td>Star Wars: Episode IV - A New Hope</td>\n",
       "      <td>movie</td>\n",
       "      <td>PG</td>\n",
       "      <td>Action, Adventure, Fantasy, Sci-Fi</td>\n",
       "      <td>English</td>\n",
       "      <td>8.6</td>\n",
       "      <td>1188658</td>\n",
       "    </tr>\n",
       "    <tr>\n",
       "      <th>699</th>\n",
       "      <td>So Weird</td>\n",
       "      <td>series</td>\n",
       "      <td>TV-Y7</td>\n",
       "      <td>Adventure, Family, Mystery, Thriller</td>\n",
       "      <td>English</td>\n",
       "      <td>8.5</td>\n",
       "      <td>2519</td>\n",
       "    </tr>\n",
       "    <tr>\n",
       "      <th>569</th>\n",
       "      <td>Disney's Newsies: The Broadway Musical!</td>\n",
       "      <td>movie</td>\n",
       "      <td>PG</td>\n",
       "      <td>Musical</td>\n",
       "      <td>English</td>\n",
       "      <td>8.5</td>\n",
       "      <td>1703</td>\n",
       "    </tr>\n",
       "    <tr>\n",
       "      <th>821</th>\n",
       "      <td>The Lion King</td>\n",
       "      <td>movie</td>\n",
       "      <td>G</td>\n",
       "      <td>Animation, Adventure, Drama, Family, Musical</td>\n",
       "      <td>English, Swahili, Xhosa, Zulu</td>\n",
       "      <td>8.5</td>\n",
       "      <td>901362</td>\n",
       "    </tr>\n",
       "  </tbody>\n",
       "</table>\n",
       "</div>"
      ],
      "text/plain": [
       "                                              title    type  rated  \\\n",
       "807                          The Imagineering Story  series    NaN   \n",
       "170                                   Gravity Falls  series  TV-Y7   \n",
       "583                                One Strange Rock  series  TV-PG   \n",
       "875                                    The Simpsons  series  TV-PG   \n",
       "831                                 The Mandalorian  series  TV-PG   \n",
       "719  Star Wars: Episode V - The Empire Strikes Back   movie     PG   \n",
       "712              Star Wars: Episode IV - A New Hope   movie     PG   \n",
       "699                                        So Weird  series  TV-Y7   \n",
       "569         Disney's Newsies: The Broadway Musical!   movie     PG   \n",
       "821                                   The Lion King   movie      G   \n",
       "\n",
       "                                                 genre  \\\n",
       "807                                        Documentary   \n",
       "170  Animation, Action, Adventure, Comedy, Family, ...   \n",
       "583                                        Documentary   \n",
       "875                                  Animation, Comedy   \n",
       "831                          Action, Adventure, Sci-Fi   \n",
       "719                 Action, Adventure, Fantasy, Sci-Fi   \n",
       "712                 Action, Adventure, Fantasy, Sci-Fi   \n",
       "699               Adventure, Family, Mystery, Thriller   \n",
       "569                                            Musical   \n",
       "821       Animation, Adventure, Drama, Family, Musical   \n",
       "\n",
       "                                              language  imdb_rating  \\\n",
       "807                                                NaN          9.1   \n",
       "170                                            English          8.9   \n",
       "583  English, Spanish, Indonesian, Chinese, Arabic,...          8.8   \n",
       "875  English, Spanish, Albanian, French, Japanese, ...          8.7   \n",
       "831                                            English          8.7   \n",
       "719                                            English          8.7   \n",
       "712                                            English          8.6   \n",
       "699                                            English          8.5   \n",
       "569                                            English          8.5   \n",
       "821                      English, Swahili, Xhosa, Zulu          8.5   \n",
       "\n",
       "     imdb_votes  \n",
       "807        1194  \n",
       "170       63771  \n",
       "583        5420  \n",
       "875      328282  \n",
       "831      157153  \n",
       "719     1109656  \n",
       "712     1188658  \n",
       "699        2519  \n",
       "569        1703  \n",
       "821      901362  "
      ]
     },
     "execution_count": 13,
     "metadata": {},
     "output_type": "execute_result"
    }
   ],
   "source": [
    "top_imdb_columns = ['title', 'type', 'rated', 'genre', 'language', 'imdb_rating', 'imdb_votes']\n",
    "filt = (disney['imdb_votes'] > 1000)\n",
    "disney.loc[filt, top_imdb_columns].sort_values(by=['imdb_rating'], ascending=False).head(10)"
   ]
  },
  {
   "cell_type": "code",
   "execution_count": 14,
   "id": "d20294d6",
   "metadata": {
    "execution": {
     "iopub.execute_input": "2022-06-28T05:43:09.283899Z",
     "iopub.status.busy": "2022-06-28T05:43:09.283147Z",
     "iopub.status.idle": "2022-06-28T05:43:09.306130Z",
     "shell.execute_reply": "2022-06-28T05:43:09.305325Z"
    },
    "papermill": {
     "duration": 0.0345,
     "end_time": "2022-06-28T05:43:09.308152",
     "exception": false,
     "start_time": "2022-06-28T05:43:09.273652",
     "status": "completed"
    },
    "tags": []
   },
   "outputs": [
    {
     "data": {
      "text/html": [
       "<div>\n",
       "<style scoped>\n",
       "    .dataframe tbody tr th:only-of-type {\n",
       "        vertical-align: middle;\n",
       "    }\n",
       "\n",
       "    .dataframe tbody tr th {\n",
       "        vertical-align: top;\n",
       "    }\n",
       "\n",
       "    .dataframe thead th {\n",
       "        text-align: right;\n",
       "    }\n",
       "</style>\n",
       "<table border=\"1\" class=\"dataframe\">\n",
       "  <thead>\n",
       "    <tr style=\"text-align: right;\">\n",
       "      <th></th>\n",
       "      <th>title</th>\n",
       "      <th>type</th>\n",
       "      <th>rated</th>\n",
       "      <th>genre</th>\n",
       "      <th>language</th>\n",
       "      <th>imdb_rating</th>\n",
       "      <th>imdb_votes</th>\n",
       "    </tr>\n",
       "  </thead>\n",
       "  <tbody>\n",
       "    <tr>\n",
       "      <th>170</th>\n",
       "      <td>Gravity Falls</td>\n",
       "      <td>series</td>\n",
       "      <td>TV-Y7</td>\n",
       "      <td>Animation, Action, Adventure, Comedy, Family, ...</td>\n",
       "      <td>English</td>\n",
       "      <td>8.9</td>\n",
       "      <td>63771</td>\n",
       "    </tr>\n",
       "    <tr>\n",
       "      <th>719</th>\n",
       "      <td>Star Wars: Episode V - The Empire Strikes Back</td>\n",
       "      <td>movie</td>\n",
       "      <td>PG</td>\n",
       "      <td>Action, Adventure, Fantasy, Sci-Fi</td>\n",
       "      <td>English</td>\n",
       "      <td>8.7</td>\n",
       "      <td>1109656</td>\n",
       "    </tr>\n",
       "    <tr>\n",
       "      <th>875</th>\n",
       "      <td>The Simpsons</td>\n",
       "      <td>series</td>\n",
       "      <td>TV-PG</td>\n",
       "      <td>Animation, Comedy</td>\n",
       "      <td>English, Spanish, Albanian, French, Japanese, ...</td>\n",
       "      <td>8.7</td>\n",
       "      <td>328282</td>\n",
       "    </tr>\n",
       "    <tr>\n",
       "      <th>831</th>\n",
       "      <td>The Mandalorian</td>\n",
       "      <td>series</td>\n",
       "      <td>TV-PG</td>\n",
       "      <td>Action, Adventure, Sci-Fi</td>\n",
       "      <td>English</td>\n",
       "      <td>8.7</td>\n",
       "      <td>157153</td>\n",
       "    </tr>\n",
       "    <tr>\n",
       "      <th>712</th>\n",
       "      <td>Star Wars: Episode IV - A New Hope</td>\n",
       "      <td>movie</td>\n",
       "      <td>PG</td>\n",
       "      <td>Action, Adventure, Fantasy, Sci-Fi</td>\n",
       "      <td>English</td>\n",
       "      <td>8.6</td>\n",
       "      <td>1188658</td>\n",
       "    </tr>\n",
       "    <tr>\n",
       "      <th>821</th>\n",
       "      <td>The Lion King</td>\n",
       "      <td>movie</td>\n",
       "      <td>G</td>\n",
       "      <td>Animation, Adventure, Drama, Family, Musical</td>\n",
       "      <td>English, Swahili, Xhosa, Zulu</td>\n",
       "      <td>8.5</td>\n",
       "      <td>901362</td>\n",
       "    </tr>\n",
       "    <tr>\n",
       "      <th>956</th>\n",
       "      <td>WALL·E</td>\n",
       "      <td>movie</td>\n",
       "      <td>G</td>\n",
       "      <td>Animation, Adventure, Family, Sci-Fi</td>\n",
       "      <td>English</td>\n",
       "      <td>8.4</td>\n",
       "      <td>955757</td>\n",
       "    </tr>\n",
       "    <tr>\n",
       "      <th>486</th>\n",
       "      <td>Avengers: Endgame</td>\n",
       "      <td>movie</td>\n",
       "      <td>PG-13</td>\n",
       "      <td>Action, Adventure, Drama, Sci-Fi</td>\n",
       "      <td>English, Japanese, Xhosa, German</td>\n",
       "      <td>8.4</td>\n",
       "      <td>694527</td>\n",
       "    </tr>\n",
       "    <tr>\n",
       "      <th>128</th>\n",
       "      <td>Coco</td>\n",
       "      <td>movie</td>\n",
       "      <td>PG</td>\n",
       "      <td>Animation, Adventure, Family, Fantasy, Music, ...</td>\n",
       "      <td>English, Spanish</td>\n",
       "      <td>8.4</td>\n",
       "      <td>333411</td>\n",
       "    </tr>\n",
       "    <tr>\n",
       "      <th>474</th>\n",
       "      <td>X-Men: The Animated Series</td>\n",
       "      <td>series</td>\n",
       "      <td>TV-Y7</td>\n",
       "      <td>Animation, Action, Family, Sci-Fi, Thriller</td>\n",
       "      <td>English</td>\n",
       "      <td>8.4</td>\n",
       "      <td>36206</td>\n",
       "    </tr>\n",
       "  </tbody>\n",
       "</table>\n",
       "</div>"
      ],
      "text/plain": [
       "                                              title    type  rated  \\\n",
       "170                                   Gravity Falls  series  TV-Y7   \n",
       "719  Star Wars: Episode V - The Empire Strikes Back   movie     PG   \n",
       "875                                    The Simpsons  series  TV-PG   \n",
       "831                                 The Mandalorian  series  TV-PG   \n",
       "712              Star Wars: Episode IV - A New Hope   movie     PG   \n",
       "821                                   The Lion King   movie      G   \n",
       "956                                          WALL·E   movie      G   \n",
       "486                               Avengers: Endgame   movie  PG-13   \n",
       "128                                            Coco   movie     PG   \n",
       "474                      X-Men: The Animated Series  series  TV-Y7   \n",
       "\n",
       "                                                 genre  \\\n",
       "170  Animation, Action, Adventure, Comedy, Family, ...   \n",
       "719                 Action, Adventure, Fantasy, Sci-Fi   \n",
       "875                                  Animation, Comedy   \n",
       "831                          Action, Adventure, Sci-Fi   \n",
       "712                 Action, Adventure, Fantasy, Sci-Fi   \n",
       "821       Animation, Adventure, Drama, Family, Musical   \n",
       "956               Animation, Adventure, Family, Sci-Fi   \n",
       "486                   Action, Adventure, Drama, Sci-Fi   \n",
       "128  Animation, Adventure, Family, Fantasy, Music, ...   \n",
       "474        Animation, Action, Family, Sci-Fi, Thriller   \n",
       "\n",
       "                                              language  imdb_rating  \\\n",
       "170                                            English          8.9   \n",
       "719                                            English          8.7   \n",
       "875  English, Spanish, Albanian, French, Japanese, ...          8.7   \n",
       "831                                            English          8.7   \n",
       "712                                            English          8.6   \n",
       "821                      English, Swahili, Xhosa, Zulu          8.5   \n",
       "956                                            English          8.4   \n",
       "486                   English, Japanese, Xhosa, German          8.4   \n",
       "128                                   English, Spanish          8.4   \n",
       "474                                            English          8.4   \n",
       "\n",
       "     imdb_votes  \n",
       "170       63771  \n",
       "719     1109656  \n",
       "875      328282  \n",
       "831      157153  \n",
       "712     1188658  \n",
       "821      901362  \n",
       "956      955757  \n",
       "486      694527  \n",
       "128      333411  \n",
       "474       36206  "
      ]
     },
     "execution_count": 14,
     "metadata": {},
     "output_type": "execute_result"
    }
   ],
   "source": [
    "# Top rated IMDB content on Disney+ \n",
    "# Filtered based on IMDB Ratings and IMDB votes\n",
    "# Also: imdb_votes > 25000:\n",
    "top_imdb_columns = ['title', 'type', 'rated', 'genre', 'language', 'imdb_rating', 'imdb_votes']\n",
    "filt = (disney['imdb_votes'] > 25000)\n",
    "disney.loc[filt, top_imdb_columns].sort_values(by=['imdb_rating', 'imdb_votes'], ascending=[False, False]).head(10)"
   ]
  },
  {
   "cell_type": "code",
   "execution_count": null,
   "id": "8c2156e1",
   "metadata": {
    "papermill": {
     "duration": 0.007939,
     "end_time": "2022-06-28T05:43:09.324459",
     "exception": false,
     "start_time": "2022-06-28T05:43:09.316520",
     "status": "completed"
    },
    "tags": []
   },
   "outputs": [],
   "source": []
  },
  {
   "cell_type": "markdown",
   "id": "5c54688e",
   "metadata": {
    "papermill": {
     "duration": 0.007863,
     "end_time": "2022-06-28T05:43:09.340639",
     "exception": false,
     "start_time": "2022-06-28T05:43:09.332776",
     "status": "completed"
    },
    "tags": []
   },
   "source": [
    "<span style=\"font-family: Sans-serif; font-size:24px; font-weight: Bold;\"> References & Inspirations:</span><br>\n",
    "<span style=\"font-family: Sans-serif; font-size:18px; font-weight: Bold;\">1. <a href=\"https://www.kaggle.com/code/subinium/awesome-visualization-with-titanic-dataset/notebook\">Awesome Visualization with Titanic Dataset by Subin An</a></span><br>\n",
    "<span style=\"font-family: Sans-serif; font-size:18px; font-weight: Bold;\">2. <a href=\"https://www.kaggle.com/code/subinium/all-you-need-is-pandas-benchmark-viz\">All you need is Pandas📊(Benchmark Viz) by Subin An</a></span><br>\n",
    "<span style=\"font-family: Sans-serif; font-size:18px; font-weight: Bold;\">3. <a href=\"https://www.kaggle.com/code/subinium/storytelling-with-data-netflix-ver\">🎬 Storytelling with Data - Netflix ver. by Subin An</a></span><br>\n",
    "<span style=\"font-family: Sans-serif; font-size:18px; font-weight: Bold;\">4. <a href=\"https://www.kaggle.com/code/kalilurrahman/disney-content-eda-analysis\">🔥Disney+ Content - EDA Analysis 💥🎯🎬 By Kalilur Rahman</a></span><br>\n",
    "<span style=\"font-family: Sans-serif; font-size:16px; font-weight: Bold;\"><a href=\"https://2colors.colorion.co\">Awesome color combos: Colorion</a></span>\n"
   ]
  }
 ],
 "metadata": {
  "kernelspec": {
   "display_name": "Python 3",
   "language": "python",
   "name": "python3"
  },
  "language_info": {
   "codemirror_mode": {
    "name": "ipython",
    "version": 3
   },
   "file_extension": ".py",
   "mimetype": "text/x-python",
   "name": "python",
   "nbconvert_exporter": "python",
   "pygments_lexer": "ipython3",
   "version": "3.7.12"
  },
  "papermill": {
   "default_parameters": {},
   "duration": 12.616351,
   "end_time": "2022-06-28T05:43:10.071391",
   "environment_variables": {},
   "exception": null,
   "input_path": "__notebook__.ipynb",
   "output_path": "__notebook__.ipynb",
   "parameters": {},
   "start_time": "2022-06-28T05:42:57.455040",
   "version": "2.3.4"
  }
 },
 "nbformat": 4,
 "nbformat_minor": 5
}
