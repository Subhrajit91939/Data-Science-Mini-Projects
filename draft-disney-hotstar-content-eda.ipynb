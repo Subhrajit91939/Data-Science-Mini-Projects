{
 "cells": [
  {
   "cell_type": "markdown",
   "id": "08caafef",
   "metadata": {
    "_cell_guid": "30388255-28df-4c6e-8d3e-ac4dae346d85",
    "_kg_hide-output": true,
    "_uuid": "70150809-db46-4b6d-a820-1e88dfa31715",
    "papermill": {
     "duration": 0.007917,
     "end_time": "2022-06-28T04:31:22.282614",
     "exception": false,
     "start_time": "2022-06-28T04:31:22.274697",
     "status": "completed"
    },
    "tags": []
   },
   "source": [
    "<p align=\"center\"> \n",
    "    <span style=\"font-family: SF Pro Display; font-size:24px; font-weight: Bold;\">Disney + Hotstar Content Exploratory Data Analysis.</span><br>\n",
    "    <img src=\"https://raw.githubusercontent.com/Subhrajit91939/Handwashing-Data-Analysis/master/Disney%2BHotstar.jpg\" alt=\"Disney+Hotstar Logo\">\n",
    " </p>"
   ]
  },
  {
   "cell_type": "code",
   "execution_count": 1,
   "id": "84c44b1e",
   "metadata": {
    "_kg_hide-input": true,
    "_kg_hide-output": true,
    "execution": {
     "iopub.execute_input": "2022-06-28T04:31:22.298850Z",
     "iopub.status.busy": "2022-06-28T04:31:22.298363Z",
     "iopub.status.idle": "2022-06-28T04:31:22.318857Z",
     "shell.execute_reply": "2022-06-28T04:31:22.317294Z"
    },
    "papermill": {
     "duration": 0.031891,
     "end_time": "2022-06-28T04:31:22.321655",
     "exception": false,
     "start_time": "2022-06-28T04:31:22.289764",
     "status": "completed"
    },
    "tags": []
   },
   "outputs": [
    {
     "name": "stdout",
     "output_type": "stream",
     "text": [
      "/kaggle/input/disney-hotstar-dataset/disney_plus_shows.csv\n"
     ]
    }
   ],
   "source": [
    "import os\n",
    "for dirname, _, filenames in os.walk('/kaggle/input'):\n",
    "    for filename in filenames:\n",
    "        print(os.path.join(dirname, filename))"
   ]
  },
  {
   "cell_type": "markdown",
   "id": "b99b875c",
   "metadata": {
    "papermill": {
     "duration": 0.006111,
     "end_time": "2022-06-28T04:31:22.334679",
     "exception": false,
     "start_time": "2022-06-28T04:31:22.328568",
     "status": "completed"
    },
    "tags": []
   },
   "source": [
    "<span style=\"font-family: SF Pro Display; font-size:20px; font-weight: Bold;\">1. Importing all the necessary Libraries.</span> <br>"
   ]
  },
  {
   "cell_type": "code",
   "execution_count": 2,
   "id": "f9c8287e",
   "metadata": {
    "execution": {
     "iopub.execute_input": "2022-06-28T04:31:22.350147Z",
     "iopub.status.busy": "2022-06-28T04:31:22.349029Z",
     "iopub.status.idle": "2022-06-28T04:31:23.694592Z",
     "shell.execute_reply": "2022-06-28T04:31:23.693365Z"
    },
    "papermill": {
     "duration": 1.356692,
     "end_time": "2022-06-28T04:31:23.697724",
     "exception": false,
     "start_time": "2022-06-28T04:31:22.341032",
     "status": "completed"
    },
    "tags": []
   },
   "outputs": [],
   "source": [
    "# Data analysis and wrangling.\n",
    "import pandas as pd\n",
    "import numpy as np\n",
    "\n",
    "# Data Visualization:\n",
    "import matplotlib as mpl\n",
    "import matplotlib.pyplot as plt\n",
    "import matplotlib.patches as patches\n",
    "import seaborn as sns\n",
    "\n",
    "## Default fonts\n",
    "mpl.rcParams['font.family'] = 'SF Pro Display'\n",
    "\n",
    "# Suppress all the warnings\n",
    "import warnings\n",
    "warnings.filterwarnings(\"ignore\")"
   ]
  },
  {
   "cell_type": "code",
   "execution_count": 3,
   "id": "125d48f3",
   "metadata": {
    "execution": {
     "iopub.execute_input": "2022-06-28T04:31:23.712272Z",
     "iopub.status.busy": "2022-06-28T04:31:23.711832Z",
     "iopub.status.idle": "2022-06-28T04:31:23.753892Z",
     "shell.execute_reply": "2022-06-28T04:31:23.752639Z"
    },
    "papermill": {
     "duration": 0.052615,
     "end_time": "2022-06-28T04:31:23.756744",
     "exception": false,
     "start_time": "2022-06-28T04:31:23.704129",
     "status": "completed"
    },
    "tags": []
   },
   "outputs": [
    {
     "data": {
      "text/plain": [
       "(992, 19)"
      ]
     },
     "execution_count": 3,
     "metadata": {},
     "output_type": "execute_result"
    }
   ],
   "source": [
    "disney = pd.read_csv('../input/disney-hotstar-dataset/disney_plus_shows.csv')\n",
    "disney.shape"
   ]
  },
  {
   "cell_type": "code",
   "execution_count": 4,
   "id": "51aafd67",
   "metadata": {
    "execution": {
     "iopub.execute_input": "2022-06-28T04:31:23.772646Z",
     "iopub.status.busy": "2022-06-28T04:31:23.771404Z",
     "iopub.status.idle": "2022-06-28T04:31:23.806158Z",
     "shell.execute_reply": "2022-06-28T04:31:23.804263Z"
    },
    "papermill": {
     "duration": 0.045607,
     "end_time": "2022-06-28T04:31:23.809034",
     "exception": false,
     "start_time": "2022-06-28T04:31:23.763427",
     "status": "completed"
    },
    "tags": []
   },
   "outputs": [
    {
     "name": "stdout",
     "output_type": "stream",
     "text": [
      "<class 'pandas.core.frame.DataFrame'>\n",
      "RangeIndex: 992 entries, 0 to 991\n",
      "Data columns (total 19 columns):\n",
      " #   Column       Non-Null Count  Dtype  \n",
      "---  ------       --------------  -----  \n",
      " 0   imdb_id      894 non-null    object \n",
      " 1   title        894 non-null    object \n",
      " 2   plot         866 non-null    object \n",
      " 3   type         894 non-null    object \n",
      " 4   rated        742 non-null    object \n",
      " 5   year         894 non-null    object \n",
      " 6   released_at  874 non-null    object \n",
      " 7   added_at     992 non-null    object \n",
      " 8   runtime      838 non-null    object \n",
      " 9   genre        885 non-null    object \n",
      " 10  director     689 non-null    object \n",
      " 11  writer       743 non-null    object \n",
      " 12  actors       870 non-null    object \n",
      " 13  language     865 non-null    object \n",
      " 14  country      869 non-null    object \n",
      " 15  awards       556 non-null    object \n",
      " 16  metascore    292 non-null    float64\n",
      " 17  imdb_rating  879 non-null    float64\n",
      " 18  imdb_votes   879 non-null    object \n",
      "dtypes: float64(2), object(17)\n",
      "memory usage: 147.4+ KB\n"
     ]
    }
   ],
   "source": [
    "disney.info()"
   ]
  },
  {
   "cell_type": "code",
   "execution_count": 5,
   "id": "12ac6623",
   "metadata": {
    "execution": {
     "iopub.execute_input": "2022-06-28T04:31:23.823928Z",
     "iopub.status.busy": "2022-06-28T04:31:23.823529Z",
     "iopub.status.idle": "2022-06-28T04:31:23.854263Z",
     "shell.execute_reply": "2022-06-28T04:31:23.853279Z"
    },
    "papermill": {
     "duration": 0.040727,
     "end_time": "2022-06-28T04:31:23.856349",
     "exception": false,
     "start_time": "2022-06-28T04:31:23.815622",
     "status": "completed"
    },
    "tags": []
   },
   "outputs": [
    {
     "data": {
      "text/html": [
       "<div>\n",
       "<style scoped>\n",
       "    .dataframe tbody tr th:only-of-type {\n",
       "        vertical-align: middle;\n",
       "    }\n",
       "\n",
       "    .dataframe tbody tr th {\n",
       "        vertical-align: top;\n",
       "    }\n",
       "\n",
       "    .dataframe thead th {\n",
       "        text-align: right;\n",
       "    }\n",
       "</style>\n",
       "<table border=\"1\" class=\"dataframe\">\n",
       "  <thead>\n",
       "    <tr style=\"text-align: right;\">\n",
       "      <th></th>\n",
       "      <th>imdb_id</th>\n",
       "      <th>title</th>\n",
       "      <th>plot</th>\n",
       "      <th>type</th>\n",
       "      <th>rated</th>\n",
       "      <th>year</th>\n",
       "      <th>released_at</th>\n",
       "      <th>added_at</th>\n",
       "      <th>runtime</th>\n",
       "      <th>genre</th>\n",
       "      <th>director</th>\n",
       "      <th>writer</th>\n",
       "      <th>actors</th>\n",
       "      <th>language</th>\n",
       "      <th>country</th>\n",
       "      <th>awards</th>\n",
       "      <th>metascore</th>\n",
       "      <th>imdb_rating</th>\n",
       "      <th>imdb_votes</th>\n",
       "    </tr>\n",
       "  </thead>\n",
       "  <tbody>\n",
       "    <tr>\n",
       "      <th>103</th>\n",
       "      <td>NaN</td>\n",
       "      <td>NaN</td>\n",
       "      <td>NaN</td>\n",
       "      <td>NaN</td>\n",
       "      <td>NaN</td>\n",
       "      <td>NaN</td>\n",
       "      <td>NaN</td>\n",
       "      <td>November 12, 2019</td>\n",
       "      <td>NaN</td>\n",
       "      <td>NaN</td>\n",
       "      <td>NaN</td>\n",
       "      <td>NaN</td>\n",
       "      <td>NaN</td>\n",
       "      <td>NaN</td>\n",
       "      <td>NaN</td>\n",
       "      <td>NaN</td>\n",
       "      <td>NaN</td>\n",
       "      <td>NaN</td>\n",
       "      <td>NaN</td>\n",
       "    </tr>\n",
       "    <tr>\n",
       "      <th>856</th>\n",
       "      <td>tt0368933</td>\n",
       "      <td>The Princess Diaries 2: Royal Engagement</td>\n",
       "      <td>Now settled in Genovia, Princess Mia faces a n...</td>\n",
       "      <td>movie</td>\n",
       "      <td>G</td>\n",
       "      <td>2004</td>\n",
       "      <td>11 Aug 2004</td>\n",
       "      <td>November 12, 2019</td>\n",
       "      <td>113 min</td>\n",
       "      <td>Comedy, Family, Romance</td>\n",
       "      <td>Garry Marshall</td>\n",
       "      <td>Meg Cabot (characters), Gina Wendkos (story), ...</td>\n",
       "      <td>Anne Hathaway, Julie Andrews, Hector Elizondo,...</td>\n",
       "      <td>English, Greek, French, Spanish</td>\n",
       "      <td>USA</td>\n",
       "      <td>1 win &amp; 2 nominations.</td>\n",
       "      <td>43.0</td>\n",
       "      <td>5.8</td>\n",
       "      <td>70,904</td>\n",
       "    </tr>\n",
       "    <tr>\n",
       "      <th>915</th>\n",
       "      <td>tt0096273</td>\n",
       "      <td>Tin Toy</td>\n",
       "      <td>A tin one-man-band toy tries to escape a destr...</td>\n",
       "      <td>movie</td>\n",
       "      <td>G</td>\n",
       "      <td>1988</td>\n",
       "      <td>30 Dec 1988</td>\n",
       "      <td>November 12, 2019</td>\n",
       "      <td>5 min</td>\n",
       "      <td>Animation, Short, Family, Fantasy</td>\n",
       "      <td>John Lasseter</td>\n",
       "      <td>John Lasseter (story)</td>\n",
       "      <td>Mel Blanc, Rob Paulsen</td>\n",
       "      <td>English</td>\n",
       "      <td>USA</td>\n",
       "      <td>Won 1 Oscar. Another 3 wins.</td>\n",
       "      <td>NaN</td>\n",
       "      <td>6.5</td>\n",
       "      <td>9,253</td>\n",
       "    </tr>\n",
       "    <tr>\n",
       "      <th>251</th>\n",
       "      <td>tt7008868</td>\n",
       "      <td>Earth Live</td>\n",
       "      <td>Jane Lynch and Phil Keoghan take viewers on a ...</td>\n",
       "      <td>movie</td>\n",
       "      <td>NaN</td>\n",
       "      <td>2017</td>\n",
       "      <td>09 Jul 2017</td>\n",
       "      <td>November 12, 2019</td>\n",
       "      <td>NaN</td>\n",
       "      <td>Documentary</td>\n",
       "      <td>Glenn Weiss</td>\n",
       "      <td>Lewis Friedman, Ann Slichter, Grant Taylor</td>\n",
       "      <td>Jane Lynch, Phil Keoghan</td>\n",
       "      <td>English</td>\n",
       "      <td>USA</td>\n",
       "      <td>NaN</td>\n",
       "      <td>NaN</td>\n",
       "      <td>5.6</td>\n",
       "      <td>24</td>\n",
       "    </tr>\n",
       "    <tr>\n",
       "      <th>649</th>\n",
       "      <td>tt0078158</td>\n",
       "      <td>Return from Witch Mountain</td>\n",
       "      <td>Tia and Tony visit Los Angeles, but he's quick...</td>\n",
       "      <td>movie</td>\n",
       "      <td>G</td>\n",
       "      <td>1978</td>\n",
       "      <td>10 Mar 1978</td>\n",
       "      <td>November 12, 2019</td>\n",
       "      <td>95 min</td>\n",
       "      <td>Family, Adventure, Sci-Fi, Fantasy</td>\n",
       "      <td>John Hough</td>\n",
       "      <td>Malcolm Marmorstein, Alexander Key (characters)</td>\n",
       "      <td>Bette Davis, Christopher Lee, Kim Richards, Ik...</td>\n",
       "      <td>English</td>\n",
       "      <td>USA</td>\n",
       "      <td>NaN</td>\n",
       "      <td>51.0</td>\n",
       "      <td>5.9</td>\n",
       "      <td>4,201</td>\n",
       "    </tr>\n",
       "  </tbody>\n",
       "</table>\n",
       "</div>"
      ],
      "text/plain": [
       "       imdb_id                                     title  \\\n",
       "103        NaN                                       NaN   \n",
       "856  tt0368933  The Princess Diaries 2: Royal Engagement   \n",
       "915  tt0096273                                   Tin Toy   \n",
       "251  tt7008868                                Earth Live   \n",
       "649  tt0078158                Return from Witch Mountain   \n",
       "\n",
       "                                                  plot   type rated  year  \\\n",
       "103                                                NaN    NaN   NaN   NaN   \n",
       "856  Now settled in Genovia, Princess Mia faces a n...  movie     G  2004   \n",
       "915  A tin one-man-band toy tries to escape a destr...  movie     G  1988   \n",
       "251  Jane Lynch and Phil Keoghan take viewers on a ...  movie   NaN  2017   \n",
       "649  Tia and Tony visit Los Angeles, but he's quick...  movie     G  1978   \n",
       "\n",
       "     released_at           added_at  runtime  \\\n",
       "103          NaN  November 12, 2019      NaN   \n",
       "856  11 Aug 2004  November 12, 2019  113 min   \n",
       "915  30 Dec 1988  November 12, 2019    5 min   \n",
       "251  09 Jul 2017  November 12, 2019      NaN   \n",
       "649  10 Mar 1978  November 12, 2019   95 min   \n",
       "\n",
       "                                  genre        director  \\\n",
       "103                                 NaN             NaN   \n",
       "856             Comedy, Family, Romance  Garry Marshall   \n",
       "915   Animation, Short, Family, Fantasy   John Lasseter   \n",
       "251                         Documentary     Glenn Weiss   \n",
       "649  Family, Adventure, Sci-Fi, Fantasy      John Hough   \n",
       "\n",
       "                                                writer  \\\n",
       "103                                                NaN   \n",
       "856  Meg Cabot (characters), Gina Wendkos (story), ...   \n",
       "915                              John Lasseter (story)   \n",
       "251         Lewis Friedman, Ann Slichter, Grant Taylor   \n",
       "649    Malcolm Marmorstein, Alexander Key (characters)   \n",
       "\n",
       "                                                actors  \\\n",
       "103                                                NaN   \n",
       "856  Anne Hathaway, Julie Andrews, Hector Elizondo,...   \n",
       "915                             Mel Blanc, Rob Paulsen   \n",
       "251                           Jane Lynch, Phil Keoghan   \n",
       "649  Bette Davis, Christopher Lee, Kim Richards, Ik...   \n",
       "\n",
       "                            language country                        awards  \\\n",
       "103                              NaN     NaN                           NaN   \n",
       "856  English, Greek, French, Spanish     USA        1 win & 2 nominations.   \n",
       "915                          English     USA  Won 1 Oscar. Another 3 wins.   \n",
       "251                          English     USA                           NaN   \n",
       "649                          English     USA                           NaN   \n",
       "\n",
       "     metascore  imdb_rating imdb_votes  \n",
       "103        NaN          NaN        NaN  \n",
       "856       43.0          5.8     70,904  \n",
       "915        NaN          6.5      9,253  \n",
       "251        NaN          5.6         24  \n",
       "649       51.0          5.9      4,201  "
      ]
     },
     "execution_count": 5,
     "metadata": {},
     "output_type": "execute_result"
    }
   ],
   "source": [
    "disney.sample(5)"
   ]
  },
  {
   "cell_type": "code",
   "execution_count": 6,
   "id": "1f28b505",
   "metadata": {
    "execution": {
     "iopub.execute_input": "2022-06-28T04:31:23.873070Z",
     "iopub.status.busy": "2022-06-28T04:31:23.871687Z",
     "iopub.status.idle": "2022-06-28T04:31:23.886857Z",
     "shell.execute_reply": "2022-06-28T04:31:23.885246Z"
    },
    "papermill": {
     "duration": 0.026438,
     "end_time": "2022-06-28T04:31:23.889661",
     "exception": false,
     "start_time": "2022-06-28T04:31:23.863223",
     "status": "completed"
    },
    "tags": []
   },
   "outputs": [
    {
     "name": "stdout",
     "output_type": "stream",
     "text": [
      "\n",
      "Disney+Hotstar dataset has: 74 Duplicate values\n"
     ]
    }
   ],
   "source": [
    "# Checking all the columns for any duplicates:\n",
    "\n",
    "print(f\"\\nDisney+Hotstar dataset has: {disney.duplicated().sum()} Duplicate values\")"
   ]
  },
  {
   "cell_type": "markdown",
   "id": "f2730aef",
   "metadata": {
    "papermill": {
     "duration": 0.006491,
     "end_time": "2022-06-28T04:31:23.903064",
     "exception": false,
     "start_time": "2022-06-28T04:31:23.896573",
     "status": "completed"
    },
    "tags": []
   },
   "source": [
    "<span style=\"font-family: SF Pro Display; font-size:18px; font-weight: Regular;\">we have a total of <strong>74 duplicates</strong> in the disney dataset.</span>"
   ]
  },
  {
   "cell_type": "code",
   "execution_count": 7,
   "id": "ace652ed",
   "metadata": {
    "execution": {
     "iopub.execute_input": "2022-06-28T04:31:23.920100Z",
     "iopub.status.busy": "2022-06-28T04:31:23.919279Z",
     "iopub.status.idle": "2022-06-28T04:31:23.933403Z",
     "shell.execute_reply": "2022-06-28T04:31:23.932258Z"
    },
    "papermill": {
     "duration": 0.02586,
     "end_time": "2022-06-28T04:31:23.935691",
     "exception": false,
     "start_time": "2022-06-28T04:31:23.909831",
     "status": "completed"
    },
    "tags": []
   },
   "outputs": [
    {
     "name": "stdout",
     "output_type": "stream",
     "text": [
      "imdb_id's NaN value = 9.88%\n",
      "title's NaN value = 9.88%\n",
      "plot's NaN value = 12.70%\n",
      "type's NaN value = 9.88%\n",
      "rated's NaN value = 25.20%\n",
      "year's NaN value = 9.88%\n",
      "released_at's NaN value = 11.90%\n",
      "runtime's NaN value = 15.52%\n",
      "genre's NaN value = 10.79%\n",
      "director's NaN value = 30.54%\n",
      "writer's NaN value = 25.10%\n",
      "actors's NaN value = 12.30%\n",
      "language's NaN value = 12.80%\n",
      "country's NaN value = 12.40%\n",
      "awards's NaN value = 43.95%\n",
      "metascore's NaN value = 70.56%\n",
      "imdb_rating's NaN value = 11.39%\n",
      "imdb_votes's NaN value = 11.39%\n",
      "\n",
      "Total columns with NaN/NULL values: 18 columns\n"
     ]
    }
   ],
   "source": [
    "# Displaying all the columns with NaN values and the Percentage of NaN/NULL values:\n",
    "nan_count = 0\n",
    "for i in disney.columns:\n",
    "    nan_perc = disney[i].isna().sum() / len(disney) * 100 \n",
    "    if nan_perc > 0 :\n",
    "        print(f\"{i}'s NaN value = {nan_perc:.2f}%\")\n",
    "        nan_count += 1\n",
    "\n",
    "print(f\"\\nTotal columns with NaN/NULL values: {nan_count} columns\")"
   ]
  },
  {
   "cell_type": "markdown",
   "id": "4a61b91b",
   "metadata": {
    "papermill": {
     "duration": 0.006542,
     "end_time": "2022-06-28T04:31:23.949684",
     "exception": false,
     "start_time": "2022-06-28T04:31:23.943142",
     "status": "completed"
    },
    "tags": []
   },
   "source": [
    "<span style=\"font-family: SF Pro Display; font-size:18px; font-weight: Regular;\"> Dataset contains a total of <strong>19 columns</strong>, out of which <strong>18 columns</strong> contain <strong>missing/NaN values</strong> and need cleaning.</span>\n",
    "* <span style=\"font-family: SF Pro Display; font-size:15px; font-weight: Regular;\"> <strong>~9.88%</strong> of the rows in all the columns (Except <code>added_at</code> column) has <strong>NaN/NULL values</strong>, so we can saely drop that part from our dataframe.</span>\n",
    "* <span style=\"font-family: SF Pro Display; font-size:15px; font-weight: Regular;\"><code>metascore</code> column has the most number of missing values <strong>~70.56%</strong>. It would be safe to drop the <code>metascore</code> column from the dataframe. As we already have 2 features when it comes to ratings for all the content available on the platform.</span>\n",
    "\n",
    "<span style=\"font-family: SF Pro Display; font-size:18px; font-weight: Regular;\">Now, let us have a look at the <strong>Disney+</strong> data.</span>"
   ]
  },
  {
   "cell_type": "code",
   "execution_count": 8,
   "id": "b0946419",
   "metadata": {
    "execution": {
     "iopub.execute_input": "2022-06-28T04:31:23.966403Z",
     "iopub.status.busy": "2022-06-28T04:31:23.965580Z",
     "iopub.status.idle": "2022-06-28T04:31:24.028867Z",
     "shell.execute_reply": "2022-06-28T04:31:24.027440Z"
    },
    "papermill": {
     "duration": 0.075499,
     "end_time": "2022-06-28T04:31:24.032060",
     "exception": false,
     "start_time": "2022-06-28T04:31:23.956561",
     "status": "completed"
    },
    "tags": []
   },
   "outputs": [
    {
     "data": {
      "text/html": [
       "<div>\n",
       "<style scoped>\n",
       "    .dataframe tbody tr th:only-of-type {\n",
       "        vertical-align: middle;\n",
       "    }\n",
       "\n",
       "    .dataframe tbody tr th {\n",
       "        vertical-align: top;\n",
       "    }\n",
       "\n",
       "    .dataframe thead th {\n",
       "        text-align: right;\n",
       "    }\n",
       "</style>\n",
       "<table border=\"1\" class=\"dataframe\">\n",
       "  <thead>\n",
       "    <tr style=\"text-align: right;\">\n",
       "      <th></th>\n",
       "      <th>imdb_id</th>\n",
       "      <th>title</th>\n",
       "      <th>plot</th>\n",
       "      <th>type</th>\n",
       "      <th>rated</th>\n",
       "      <th>year</th>\n",
       "      <th>released_at</th>\n",
       "      <th>added_at</th>\n",
       "      <th>runtime</th>\n",
       "      <th>genre</th>\n",
       "      <th>director</th>\n",
       "      <th>writer</th>\n",
       "      <th>actors</th>\n",
       "      <th>language</th>\n",
       "      <th>country</th>\n",
       "      <th>awards</th>\n",
       "      <th>metascore</th>\n",
       "      <th>imdb_rating</th>\n",
       "      <th>imdb_votes</th>\n",
       "    </tr>\n",
       "  </thead>\n",
       "  <tbody>\n",
       "    <tr>\n",
       "      <th>count</th>\n",
       "      <td>894</td>\n",
       "      <td>894</td>\n",
       "      <td>866</td>\n",
       "      <td>894</td>\n",
       "      <td>742</td>\n",
       "      <td>894</td>\n",
       "      <td>874</td>\n",
       "      <td>992</td>\n",
       "      <td>838</td>\n",
       "      <td>885</td>\n",
       "      <td>689</td>\n",
       "      <td>743</td>\n",
       "      <td>870</td>\n",
       "      <td>865</td>\n",
       "      <td>869</td>\n",
       "      <td>556</td>\n",
       "      <td>292.0</td>\n",
       "      <td>879.0</td>\n",
       "      <td>879</td>\n",
       "    </tr>\n",
       "    <tr>\n",
       "      <th>unique</th>\n",
       "      <td>894</td>\n",
       "      <td>872</td>\n",
       "      <td>865</td>\n",
       "      <td>3</td>\n",
       "      <td>17</td>\n",
       "      <td>178</td>\n",
       "      <td>800</td>\n",
       "      <td>58</td>\n",
       "      <td>128</td>\n",
       "      <td>366</td>\n",
       "      <td>465</td>\n",
       "      <td>710</td>\n",
       "      <td>817</td>\n",
       "      <td>72</td>\n",
       "      <td>59</td>\n",
       "      <td>258</td>\n",
       "      <td>NaN</td>\n",
       "      <td>NaN</td>\n",
       "      <td>818</td>\n",
       "    </tr>\n",
       "    <tr>\n",
       "      <th>top</th>\n",
       "      <td>tt0147800</td>\n",
       "      <td>Freaky Friday</td>\n",
       "      <td>The romantic tale of a sheltered uptown Cocker...</td>\n",
       "      <td>movie</td>\n",
       "      <td>G</td>\n",
       "      <td>2019</td>\n",
       "      <td>12 Nov 2019</td>\n",
       "      <td>November 12, 2019</td>\n",
       "      <td>30 min</td>\n",
       "      <td>Documentary</td>\n",
       "      <td>Jack Hannah</td>\n",
       "      <td>Bill Berg (story), Nick George (story)</td>\n",
       "      <td>Winston Hibler</td>\n",
       "      <td>English</td>\n",
       "      <td>USA</td>\n",
       "      <td>1 nomination.</td>\n",
       "      <td>NaN</td>\n",
       "      <td>NaN</td>\n",
       "      <td>47</td>\n",
       "    </tr>\n",
       "    <tr>\n",
       "      <th>freq</th>\n",
       "      <td>1</td>\n",
       "      <td>3</td>\n",
       "      <td>2</td>\n",
       "      <td>680</td>\n",
       "      <td>207</td>\n",
       "      <td>31</td>\n",
       "      <td>12</td>\n",
       "      <td>786</td>\n",
       "      <td>52</td>\n",
       "      <td>53</td>\n",
       "      <td>16</td>\n",
       "      <td>4</td>\n",
       "      <td>10</td>\n",
       "      <td>737</td>\n",
       "      <td>735</td>\n",
       "      <td>56</td>\n",
       "      <td>NaN</td>\n",
       "      <td>NaN</td>\n",
       "      <td>3</td>\n",
       "    </tr>\n",
       "  </tbody>\n",
       "</table>\n",
       "</div>"
      ],
      "text/plain": [
       "          imdb_id          title  \\\n",
       "count         894            894   \n",
       "unique        894            872   \n",
       "top     tt0147800  Freaky Friday   \n",
       "freq            1              3   \n",
       "\n",
       "                                                     plot   type rated  year  \\\n",
       "count                                                 866    894   742   894   \n",
       "unique                                                865      3    17   178   \n",
       "top     The romantic tale of a sheltered uptown Cocker...  movie     G  2019   \n",
       "freq                                                    2    680   207    31   \n",
       "\n",
       "        released_at           added_at runtime        genre     director  \\\n",
       "count           874                992     838          885          689   \n",
       "unique          800                 58     128          366          465   \n",
       "top     12 Nov 2019  November 12, 2019  30 min  Documentary  Jack Hannah   \n",
       "freq             12                786      52           53           16   \n",
       "\n",
       "                                        writer          actors language  \\\n",
       "count                                      743             870      865   \n",
       "unique                                     710             817       72   \n",
       "top     Bill Berg (story), Nick George (story)  Winston Hibler  English   \n",
       "freq                                         4              10      737   \n",
       "\n",
       "       country         awards  metascore  imdb_rating imdb_votes  \n",
       "count      869            556      292.0        879.0        879  \n",
       "unique      59            258        NaN          NaN        818  \n",
       "top        USA  1 nomination.        NaN          NaN         47  \n",
       "freq       735             56        NaN          NaN          3  "
      ]
     },
     "execution_count": 8,
     "metadata": {},
     "output_type": "execute_result"
    }
   ],
   "source": [
    "disney.describe(include='all').head(4)"
   ]
  },
  {
   "cell_type": "markdown",
   "id": "c333fe8f",
   "metadata": {
    "papermill": {
     "duration": 0.007464,
     "end_time": "2022-06-28T04:31:24.047021",
     "exception": false,
     "start_time": "2022-06-28T04:31:24.039557",
     "status": "completed"
    },
    "tags": []
   },
   "source": [
    "<span style=\"font-family: SF Pro Display; font-size:18px; font-weight: Regular;\">Cleaning the <strong>missing/NaN</strong> data.</span>\n",
    "<br>\n",
    "<span style=\"font-family: SF Pro Display; font-size:16px; font-weight: Regular;\">1. Dropping the <code>metascore</code> feature from the dataset.</span><br>\n",
    "<span style=\"font-family: SF Pro Display; font-size:16px; font-weight: Regular;\">2. Dropping the <strong>~9.88%</strong> missing data from the dataset.</span>"
   ]
  },
  {
   "cell_type": "code",
   "execution_count": 9,
   "id": "a647e6a5",
   "metadata": {
    "execution": {
     "iopub.execute_input": "2022-06-28T04:31:24.063940Z",
     "iopub.status.busy": "2022-06-28T04:31:24.063564Z",
     "iopub.status.idle": "2022-06-28T04:31:24.070087Z",
     "shell.execute_reply": "2022-06-28T04:31:24.069216Z"
    },
    "papermill": {
     "duration": 0.017756,
     "end_time": "2022-06-28T04:31:24.072446",
     "exception": false,
     "start_time": "2022-06-28T04:31:24.054690",
     "status": "completed"
    },
    "tags": []
   },
   "outputs": [],
   "source": [
    "disney = disney.drop(columns='metascore')"
   ]
  },
  {
   "cell_type": "code",
   "execution_count": 10,
   "id": "a4a4c799",
   "metadata": {
    "execution": {
     "iopub.execute_input": "2022-06-28T04:31:24.089413Z",
     "iopub.status.busy": "2022-06-28T04:31:24.088947Z",
     "iopub.status.idle": "2022-06-28T04:31:24.111279Z",
     "shell.execute_reply": "2022-06-28T04:31:24.108985Z"
    },
    "papermill": {
     "duration": 0.035372,
     "end_time": "2022-06-28T04:31:24.115336",
     "exception": false,
     "start_time": "2022-06-28T04:31:24.079964",
     "status": "completed"
    },
    "tags": []
   },
   "outputs": [
    {
     "name": "stdout",
     "output_type": "stream",
     "text": [
      "<class 'pandas.core.frame.DataFrame'>\n",
      "Int64Index: 894 entries, 0 to 991\n",
      "Data columns (total 18 columns):\n",
      " #   Column       Non-Null Count  Dtype  \n",
      "---  ------       --------------  -----  \n",
      " 0   imdb_id      894 non-null    object \n",
      " 1   title        894 non-null    object \n",
      " 2   plot         866 non-null    object \n",
      " 3   type         894 non-null    object \n",
      " 4   rated        742 non-null    object \n",
      " 5   year         894 non-null    object \n",
      " 6   released_at  874 non-null    object \n",
      " 7   added_at     894 non-null    object \n",
      " 8   runtime      838 non-null    object \n",
      " 9   genre        885 non-null    object \n",
      " 10  director     689 non-null    object \n",
      " 11  writer       743 non-null    object \n",
      " 12  actors       870 non-null    object \n",
      " 13  language     865 non-null    object \n",
      " 14  country      869 non-null    object \n",
      " 15  awards       556 non-null    object \n",
      " 16  imdb_rating  879 non-null    float64\n",
      " 17  imdb_votes   879 non-null    object \n",
      "dtypes: float64(1), object(17)\n",
      "memory usage: 132.7+ KB\n"
     ]
    }
   ],
   "source": [
    "# dropping the 9.88% Missing data in the major columns.\n",
    "disney = disney.dropna(subset=['imdb_id', 'title', 'type', 'year'])\n",
    "disney.info()"
   ]
  },
  {
   "cell_type": "code",
   "execution_count": 11,
   "id": "56be2873",
   "metadata": {
    "execution": {
     "iopub.execute_input": "2022-06-28T04:31:24.133184Z",
     "iopub.status.busy": "2022-06-28T04:31:24.132735Z",
     "iopub.status.idle": "2022-06-28T04:31:24.268520Z",
     "shell.execute_reply": "2022-06-28T04:31:24.266946Z"
    },
    "papermill": {
     "duration": 0.148907,
     "end_time": "2022-06-28T04:31:24.272156",
     "exception": false,
     "start_time": "2022-06-28T04:31:24.123249",
     "status": "completed"
    },
    "tags": []
   },
   "outputs": [
    {
     "data": {
      "image/png": "[encoded data removed]",
      "text/plain": [
       "<Figure size 720x144 with 1 Axes>"
      ]
     },
     "metadata": {
      "needs_background": "light"
     },
     "output_type": "display_data"
    }
   ],
   "source": [
    "sns.palplot(['#070C26', '#0D1440', '#1F438C', '#193773', '#F2F2F2'], size=2)"
   ]
  },
  {
   "cell_type": "code",
   "execution_count": 12,
   "id": "63990f02",
   "metadata": {
    "execution": {
     "iopub.execute_input": "2022-06-28T04:31:24.305532Z",
     "iopub.status.busy": "2022-06-28T04:31:24.303875Z",
     "iopub.status.idle": "2022-06-28T04:31:24.310986Z",
     "shell.execute_reply": "2022-06-28T04:31:24.309684Z"
    },
    "papermill": {
     "duration": 0.026925,
     "end_time": "2022-06-28T04:31:24.314493",
     "exception": false,
     "start_time": "2022-06-28T04:31:24.287568",
     "status": "completed"
    },
    "tags": []
   },
   "outputs": [],
   "source": [
    "# Top-10 Movies Based on IMDB Ratings:\n"
   ]
  },
  {
   "cell_type": "code",
   "execution_count": null,
   "id": "38cb50b9",
   "metadata": {
    "papermill": {
     "duration": 0.013258,
     "end_time": "2022-06-28T04:31:24.341643",
     "exception": false,
     "start_time": "2022-06-28T04:31:24.328385",
     "status": "completed"
    },
    "tags": []
   },
   "outputs": [],
   "source": []
  },
  {
   "cell_type": "code",
   "execution_count": null,
   "id": "4f5689fd",
   "metadata": {
    "papermill": {
     "duration": 0.007424,
     "end_time": "2022-06-28T04:31:24.356714",
     "exception": false,
     "start_time": "2022-06-28T04:31:24.349290",
     "status": "completed"
    },
    "tags": []
   },
   "outputs": [],
   "source": []
  },
  {
   "cell_type": "code",
   "execution_count": null,
   "id": "096e74b0",
   "metadata": {
    "papermill": {
     "duration": 0.007369,
     "end_time": "2022-06-28T04:31:24.371691",
     "exception": false,
     "start_time": "2022-06-28T04:31:24.364322",
     "status": "completed"
    },
    "tags": []
   },
   "outputs": [],
   "source": []
  },
  {
   "cell_type": "code",
   "execution_count": null,
   "id": "260e4a94",
   "metadata": {
    "papermill": {
     "duration": 0.007472,
     "end_time": "2022-06-28T04:31:24.387571",
     "exception": false,
     "start_time": "2022-06-28T04:31:24.380099",
     "status": "completed"
    },
    "tags": []
   },
   "outputs": [],
   "source": []
  },
  {
   "cell_type": "code",
   "execution_count": null,
   "id": "1cc66638",
   "metadata": {
    "papermill": {
     "duration": 0.007551,
     "end_time": "2022-06-28T04:31:24.403007",
     "exception": false,
     "start_time": "2022-06-28T04:31:24.395456",
     "status": "completed"
    },
    "tags": []
   },
   "outputs": [],
   "source": []
  },
  {
   "cell_type": "markdown",
   "id": "dc715c9d",
   "metadata": {
    "papermill": {
     "duration": 0.00798,
     "end_time": "2022-06-28T04:31:24.418911",
     "exception": false,
     "start_time": "2022-06-28T04:31:24.410931",
     "status": "completed"
    },
    "tags": []
   },
   "source": [
    "<span style=\"font-family: SF Pro Display; font-size:24px; font-weight: Bold;\"> References & Inspirations:</span><br>\n",
    "<span style=\"font-family: SF Pro Display; font-size:18px; font-weight: Bold;\">1. <a href=\"https://www.kaggle.com/code/subinium/awesome-visualization-with-titanic-dataset/notebook\">Awesome Visualization with Titanic Dataset by Subin An</a></span><br>\n",
    "<span style=\"font-family: SF Pro Display; font-size:18px; font-weight: Bold;\">2. <a href=\"https://www.kaggle.com/code/subinium/all-you-need-is-pandas-benchmark-viz\">All you need is Pandas📊(Benchmark Viz) by Subin An</a></span><br>\n",
    "<span style=\"font-family: SF Pro Display; font-size:18px; font-weight: Bold;\">3. <a href=\"https://www.kaggle.com/code/subinium/storytelling-with-data-netflix-ver\">🎬 Storytelling with Data - Netflix ver. by Subin An</a></span><br>\n",
    "<span style=\"font-family: SF Pro Display; font-size:18px; font-weight: Bold;\">4. <a href=\"https://www.kaggle.com/code/kalilurrahman/disney-content-eda-analysis\">🔥Disney+ Content - EDA Analysis 💥🎯🎬 By Kalilur Rahman</a></span><br>\n",
    "<span style=\"font-family: SF Pro Display; font-size:16px; font-weight: Bold;\"><a href=\"https://2colors.colorion.co\">Awesome color combos: Colorion</a></span>\n"
   ]
  }
 ],
 "metadata": {
  "kernelspec": {
   "display_name": "Python 3",
   "language": "python",
   "name": "python3"
  },
  "language_info": {
   "codemirror_mode": {
    "name": "ipython",
    "version": 3
   },
   "file_extension": ".py",
   "mimetype": "text/x-python",
   "name": "python",
   "nbconvert_exporter": "python",
   "pygments_lexer": "ipython3",
   "version": "3.7.12"
  },
  "papermill": {
   "default_parameters": {},
   "duration": 14.354919,
   "end_time": "2022-06-28T04:31:25.351951",
   "environment_variables": {},
   "exception": null,
   "input_path": "__notebook__.ipynb",
   "output_path": "__notebook__.ipynb",
   "parameters": {},
   "start_time": "2022-06-28T04:31:10.997032",
   "version": "2.3.4"
  }
 },
 "nbformat": 4,
 "nbformat_minor": 5
}
